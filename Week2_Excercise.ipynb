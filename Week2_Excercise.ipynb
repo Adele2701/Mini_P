{
 "cells": [
  {
   "cell_type": "markdown",
   "id": "503ff5e3",
   "metadata": {},
   "source": [
    "## Question 3"
   ]
  },
  {
   "cell_type": "code",
   "execution_count": 1,
   "id": "e50b95f6",
   "metadata": {},
   "outputs": [],
   "source": [
    "import numpy as np"
   ]
  },
  {
   "cell_type": "code",
   "execution_count": 2,
   "id": "24e3776b",
   "metadata": {
    "scrolled": true
   },
   "outputs": [
    {
     "name": "stdout",
     "output_type": "stream",
     "text": [
      "[0 1 2 3 4 5 6 7 8 9]\n",
      "[ 0  1  2  3 25 25 25  7  8  9]\n",
      "[-1 25 25]\n",
      "[ 0  1  2  3 -1 25 25  7  8  9]\n"
     ]
    }
   ],
   "source": [
    "my_arr = np.arange(10)\n",
    "print(my_arr)\n",
    "my_arr[4:7] = 25\n",
    "print(my_arr)\n",
    "arr_slice = my_arr[4:7]\n",
    "\n",
    "# Change the first element of arr_slice to -1\n",
    "arr_slice[0]= -1\n",
    "\n",
    "print(arr_slice)\n",
    "print(my_arr)"
   ]
  },
  {
   "cell_type": "code",
   "execution_count": 3,
   "id": "a24e3a68",
   "metadata": {},
   "outputs": [
    {
     "name": "stdout",
     "output_type": "stream",
     "text": [
      "[0 1 2 3 4 5 6 7 8 9]\n",
      "[ 0  1  2  3 25 25 25  7  8  9]\n",
      "[-1 25 25]\n",
      "[ 0  1  2  3 25 25 25  7  8  9]\n"
     ]
    }
   ],
   "source": [
    "my_arr = np.arange(10)\n",
    "print(my_arr)\n",
    "my_arr[4:7] = 25\n",
    "print(my_arr)\n",
    "arr_slice = my_arr[4:7].copy() \n",
    "\n",
    "# Change the first element of arr_slice to -1\n",
    "arr_slice[0]= -1\n",
    "\n",
    "print(arr_slice)\n",
    "print(my_arr)"
   ]
  },
  {
   "cell_type": "markdown",
   "id": "437bb0c0",
   "metadata": {},
   "source": [
    "## Question 4"
   ]
  },
  {
   "cell_type": "code",
   "execution_count": 4,
   "id": "9b13798b",
   "metadata": {},
   "outputs": [],
   "source": [
    "import matplotlib.pyplot as plt"
   ]
  },
  {
   "cell_type": "code",
   "execution_count": 5,
   "id": "be054e54",
   "metadata": {},
   "outputs": [
    {
     "data": {
      "image/png": "[encoded data removed]",
      "text/plain": [
       "<Figure size 432x288 with 1 Axes>"
      ]
     },
     "metadata": {},
     "output_type": "display_data"
    }
   ],
   "source": [
    "# Create a blank image with black background\n",
    "image = np.zeros((200, 200), dtype=\"uint8\")\n",
    "\n",
    "# Find the center coordinates\n",
    "center_x = 200 // 2\n",
    "center_y = 200 // 2\n",
    "\n",
    "# Set the radius of the circular spot\n",
    "radius = 25\n",
    "\n",
    "# Create 2 arrays with 0 to 200(inclusive)\n",
    "y_coords, x_coords = np.ogrid[:200, :200]  \n",
    "\n",
    "# Generate the coordinates for the circle\n",
    "distance = np.sqrt((x_coords - center_x) ** 2 + (y_coords - center_y) ** 2) ## a**2 = b**2 + c**2 \n",
    "area = distance <= radius  ## pixels within or outside circle\n",
    "\n",
    "# Set the pixel values for the circle to white\n",
    "image[area] = 255\n",
    "\n",
    "# Display the image\n",
    "plt.imshow(image, cmap = plt.cm.gray)\n",
    "plt.xticks([]), plt.yticks([])\n",
    "plt.show()"
   ]
  },
  {
   "cell_type": "code",
   "execution_count": null,
   "id": "9d110322",
   "metadata": {},
   "outputs": [],
   "source": []
  }
 ],
 "metadata": {
  "kernelspec": {
   "display_name": "Python 3 (ipykernel)",
   "language": "python",
   "name": "python3"
  },
  "language_info": {
   "codemirror_mode": {
    "name": "ipython",
    "version": 3
   },
   "file_extension": ".py",
   "mimetype": "text/x-python",
   "name": "python",
   "nbconvert_exporter": "python",
   "pygments_lexer": "ipython3",
   "version": "3.9.12"
  }
 },
 "nbformat": 4,
 "nbformat_minor": 5
}
